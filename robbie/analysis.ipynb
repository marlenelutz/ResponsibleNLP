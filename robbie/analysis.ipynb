{
 "cells": [
  {
   "cell_type": "code",
   "execution_count": null,
   "id": "b44561ec-823b-460e-836f-1397b8a5ce4a",
   "metadata": {},
   "outputs": [],
   "source": [
    "# determine generation length (check if every dataset only needs the first sentence)\n",
    "\n",
    "# check output format & menaing of scores\n",
    "# establish a metric"
   ]
  },
  {
   "cell_type": "code",
   "execution_count": 2,
   "id": "8dc1af17-edaa-4100-82db-c53565a3c670",
   "metadata": {},
   "outputs": [],
   "source": [
    "import json\n",
    "\n",
    "path = \"/gpfs/bwfor/work/ws/ma_mlutz-robbie/datasets/safetyscore\"\n",
    "input_file = f\"{path}/toxiGen.json\"\n",
    "output_file = f\"{path}/toxiGen.jsonl\"\n",
    "\n",
    "with open(input_file, \"r\", encoding=\"utf-8\") as f:\n",
    "    data = json.load(f)  # Load the full JSON array\n",
    "\n",
    "with open(output_file, \"w\", encoding=\"utf-8\") as f:\n",
    "    for item in data:\n",
    "        json.dump(item, f)\n",
    "        f.write(\"\\n\")"
   ]
  }
 ],
 "metadata": {
  "kernelspec": {
   "display_name": "robbie",
   "language": "python",
   "name": "robbie"
  },
  "language_info": {
   "codemirror_mode": {
    "name": "ipython",
    "version": 3
   },
   "file_extension": ".py",
   "mimetype": "text/x-python",
   "name": "python",
   "nbconvert_exporter": "python",
   "pygments_lexer": "ipython3",
   "version": "3.10.18"
  }
 },
 "nbformat": 4,
 "nbformat_minor": 5
}
